{
 "cells": [
  {
   "cell_type": "markdown",
   "metadata": {},
   "source": [
    "# Implementing a simple \"Convolution\" function\n"
   ]
  },
  {
   "cell_type": "code",
   "execution_count": null,
   "metadata": {},
   "outputs": [],
   "source": [
    "# imports\n",
    "import matplotlib.pyplot as plt\n",
    "\n",
    "import torch\n",
    "import torch.nn.functional as F\n"
   ]
  },
  {
   "cell_type": "markdown",
   "metadata": {},
   "source": [
    "Complete the `conv2d` function. Please note that this function takes a 2D-image (without the channel dimension) and performs cross-correlation with the given 2D-kernel (without the in-channel and out-channel dimensions)."
   ]
  },
  {
   "cell_type": "code",
   "execution_count": null,
   "metadata": {},
   "outputs": [],
   "source": [
    "def conv2d(x: torch.Tensor, k: torch.Tensor, s: int = 1) -> torch.Tensor:\n",
    "    \"\"\"\n",
    "    Applies a 2D convolution over an input signal composed of several input planes.\n",
    "\n",
    "    Args:\n",
    "    - x: input tensor of shape (H, W)\n",
    "    - k: kernel tensor of shape (HH, WW)\n",
    "    - s: symmetric stride of the convolution (default: 1)\n",
    "\n",
    "    Returns:\n",
    "    - output: output tensor of shape (H', W')\n",
    "    \"\"\"\n",
    "    H, W = x.shape\n",
    "    HH, WW = k.shape\n",
    "    assert H >= HH, \"input height must be at least as large as kernel height\"\n",
    "    assert W >= WW, \"input width must be at least as large as kernel width\"\n",
    "    assert s <= HH and s <= WW, \"stride must be smaller than or equal to kernel size\"\n",
    "    assert (H - HH + s)%s == 0, \"invalid stride for input height\"\n",
    "    assert (W - WW + s)%s == 0, \"invalid stride for input width\"\n",
    "\n",
    "    # output shape based on the stride and input and kernel shapes\n",
    "    H_out = (H - HH + s) // s\n",
    "    W_out = (W - WW + s) // s\n",
    "\n",
    "    # pre-allocation of output tensor\n",
    "    output = torch.zeros(H_out, W_out)\n",
    "\n",
    "    # cross-correlation (\"convolution\") using nested for loops\n",
    "    for i in range(H_out):\n",
    "        for j in range(W_out):\n",
    "            # >>>>> YOUR CODE HERE\n",
    "            raise NotImplementedError(\"Replace this line by your code.\")\n",
    "            output[i, j] = ...\n",
    "            # <<<<< END YOUR CODE\n",
    "\n",
    "    return output\n"
   ]
  },
  {
   "cell_type": "code",
   "execution_count": null,
   "metadata": {},
   "outputs": [],
   "source": [
    "# let's test the function with a toy example\n",
    "k1 = torch.zeros(10, 10)\n",
    "k1[1, 1:4] = 1.0\n",
    "k1[1, 6:9] = 1.0\n",
    "k1[3, 2:3] = 1.0\n",
    "k1[3, 7:8] = 1.0\n",
    "k1[3:5, 5] = 1.0\n",
    "k1[6, 3] = 1.0\n",
    "k1[7, 3:7] = 1.0\n",
    "k1 -= k1.mean()\n",
    "\n",
    "x = torch.randn(60, 60) / 5\n",
    "for i in range(3):\n",
    "    i, j = torch.randint(0, 50, (2,))\n",
    "    x[i:i+10, j:j+10] += k1\n",
    "x = torch.clamp(x, 0, 1)\n",
    "\n",
    "plt.figure(figsize=(8, 4))\n",
    "plt.subplot(1, 2, 1)\n",
    "plt.title(\"kernel\")\n",
    "plt.imshow(k1, cmap='Reds')\n",
    "plt.axis('off')\n",
    "plt.subplot(1, 2, 2)\n",
    "plt.title(\"input image\")\n",
    "plt.imshow(x, cmap='Blues')\n",
    "plt.axis('off')\n",
    "plt.tight_layout()\n",
    "plt.show()\n"
   ]
  },
  {
   "cell_type": "markdown",
   "metadata": {},
   "source": [
    "Use `torch.nn.functional.conv2d` to perform cross-correlation on the toy data and compare your implementation with PyTorch's.\n",
    "\n",
    "**NOTE:** `torch.nn.functional.conv2d` takes 3D-input tensor (channel, height, width) and 4D-kernel tensor (in-channel and out-channel, kernel dimensions). You can use `.unsqueeze()` to add the necessary dimensions."
   ]
  },
  {
   "cell_type": "code",
   "execution_count": null,
   "metadata": {},
   "outputs": [],
   "source": [
    "stride = 2\n",
    "y_ours = conv2d(x, k1, s=stride)\n",
    "\n",
    "# >>>>> YOUR CODE HERE\n",
    "raise NotImplementedError(\"Replace this line by your code.\")\n",
    "y_torch = ...\n",
    "# <<<<< END YOUR CODE\n",
    "\n",
    "# let's compare the results\n",
    "plt.figure(figsize=(8, 4))\n",
    "plt.subplot(1, 2, 1)\n",
    "plt.title(\"Our implementation\")\n",
    "plt.imshow(y_ours, cmap='Purples')\n",
    "plt.axis('off')\n",
    "plt.subplot(1, 2, 2)\n",
    "plt.title(\"Torch's implementation\")\n",
    "plt.imshow(y_torch[0], cmap='Purples')\n",
    "plt.axis('off')\n",
    "plt.tight_layout()\n",
    "plt.show()\n"
   ]
  }
 ],
 "metadata": {
  "kernelspec": {
   "display_name": "base",
   "language": "python",
   "name": "python3"
  },
  "language_info": {
   "codemirror_mode": {
    "name": "ipython",
    "version": 3
   },
   "file_extension": ".py",
   "mimetype": "text/x-python",
   "name": "python",
   "nbconvert_exporter": "python",
   "pygments_lexer": "ipython3",
   "version": "3.9.18"
  }
 },
 "nbformat": 4,
 "nbformat_minor": 2
}
