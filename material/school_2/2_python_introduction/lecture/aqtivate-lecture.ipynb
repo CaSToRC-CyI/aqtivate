{
 "cells": [
  {
   "cell_type": "markdown",
   "id": "f39fa2e8-7cf7-40da-ab85-8d59d0664b35",
   "metadata": {},
   "source": [
    "# Python in the context of different programming languages paradigms"
   ]
  },
  {
   "cell_type": "markdown",
   "id": "529c3fc3-1e16-4e73-9682-429125c96de1",
   "metadata": {},
   "source": [
    "* Python is a high-level language, implemented in C through CPython\n",
    "* Python is an **interpreted** language (C/C++/Julia are compiled)\n",
    "* Python is dynamically typed, but type-annotations are available (C/C++/Java are statically typed)"
   ]
  },
  {
   "cell_type": "markdown",
   "id": "ba5d6d55-d997-4a0e-bbbd-4901ab5837b6",
   "metadata": {},
   "source": [
    "* Python offers paradigms such as object-oriented programming (Java, C++) and functional programming (Haskell)\n",
    "* Python uses mandatory indentation levels to identify code blocks (C/C++/Java use `{}`)\n",
    "* Python offers a vast standard library (similar to Java/C++, in contrast to C or Lua)\n",
    "* Python is slow, much slower than C/C++ or even Java, but allows simple cross-language binding with C (and others)"
   ]
  },
  {
   "cell_type": "markdown",
   "id": "60eef172-e20f-4c74-bf49-1ec816624584",
   "metadata": {},
   "source": [
    "# Types\n",
    "Everything in Python are objects, and every object has a type"
   ]
  },
  {
   "cell_type": "code",
   "execution_count": null,
   "id": "8988199a-3bf6-4547-b6f6-bf9b1896fbcd",
   "metadata": {},
   "outputs": [],
   "source": [
    "var = True  # variable\n",
    "# `print` and `type` are functions\n",
    "print(type(var))"
   ]
  },
  {
   "cell_type": "code",
   "execution_count": null,
   "id": "3774892d-d16d-430d-bd6a-5fac787636d4",
   "metadata": {},
   "outputs": [],
   "source": [
    "# `print` can be omitted for the code in a cell's last line\n",
    "# Output is a tuple datatype of two elements\n",
    "type(1), type(1.0)"
   ]
  },
  {
   "cell_type": "code",
   "execution_count": null,
   "id": "4c1c6300-011e-4de0-b884-895d97f0089e",
   "metadata": {},
   "outputs": [],
   "source": [
    "var = type(1), type(1.0)\n",
    "type(var)"
   ]
  },
  {
   "cell_type": "markdown",
   "id": "e063904b-aa28-4197-98c2-42b86c08627e",
   "metadata": {},
   "source": [
    "# Operators on simple types\n",
    "Operators describe operations between objects. Python code is typed dynamically."
   ]
  },
  {
   "cell_type": "code",
   "execution_count": null,
   "id": "ba4b746e-90eb-4a2f-98ac-d934a9201642",
   "metadata": {},
   "outputs": [],
   "source": [
    "1 + 3 - 2 * 3 / 4.0"
   ]
  },
  {
   "cell_type": "code",
   "execution_count": null,
   "id": "02a66f60-5097-4928-9a8f-cdaf0ba44dd6",
   "metadata": {},
   "outputs": [],
   "source": [
    "1 == 1.0"
   ]
  },
  {
   "cell_type": "code",
   "execution_count": null,
   "id": "5edf2e20-3fde-4641-ab13-6a8b76641db1",
   "metadata": {},
   "outputs": [],
   "source": [
    "a = True\n",
    "not a"
   ]
  },
  {
   "cell_type": "code",
   "execution_count": null,
   "id": "ee5b116d-c8b8-4a6e-8f56-2d7565028f1e",
   "metadata": {},
   "outputs": [],
   "source": [
    "a = True\n",
    "# standard boolean comparison operators\n",
    "a and a or not a"
   ]
  },
  {
   "cell_type": "code",
   "execution_count": null,
   "id": "f1382f96-d4e8-4fcc-8eb0-2be1cab6792b",
   "metadata": {},
   "outputs": [],
   "source": [
    "# Type conversions\n",
    "var = 1\n",
    "type(var), type(float(var))"
   ]
  },
  {
   "cell_type": "markdown",
   "id": "e12a5a79-2a15-497d-bf5d-a2e52d1afe85",
   "metadata": {},
   "source": [
    "# Datastructures"
   ]
  },
  {
   "cell_type": "code",
   "execution_count": null,
   "id": "76d143a8-0ffe-484a-b8c8-f4a537f69ee3",
   "metadata": {},
   "outputs": [],
   "source": [
    "# strings are immutable\n",
    "# strings can use `''` or `\"\"` literals (be consistent)\n",
    "a = 'hello'\n",
    "type(a)"
   ]
  },
  {
   "cell_type": "code",
   "execution_count": null,
   "id": "919a2935-e670-4c2f-b453-13a81cf950f4",
   "metadata": {},
   "outputs": [],
   "source": [
    "# lists are mutable\n",
    "a = [1, 2, 3]\n",
    "type(a)  # mutable"
   ]
  },
  {
   "cell_type": "code",
   "execution_count": null,
   "id": "a97e866b-b315-4279-b61c-10b5c1fb078e",
   "metadata": {},
   "outputs": [],
   "source": [
    "# tuples are immutable\n",
    "a = (1, 2, 3)\n",
    "type(a) # immutable"
   ]
  },
  {
   "cell_type": "code",
   "execution_count": null,
   "id": "2eada1b8-8943-407f-b589-06f379565d40",
   "metadata": {},
   "outputs": [],
   "source": [
    "# sets are immutable and encapsulate unique elements\n",
    "a = {1, 2, 3, 3}\n",
    "a, type(a)"
   ]
  },
  {
   "cell_type": "code",
   "execution_count": null,
   "id": "3c411c66-36ba-47de-a4dc-9fe737f52561",
   "metadata": {},
   "outputs": [],
   "source": [
    "# sets are unordered\n",
    "a = {3, 3, 2, 1}\n",
    "a"
   ]
  },
  {
   "cell_type": "code",
   "execution_count": null,
   "id": "838e1917-f4c9-4c9c-980b-a32213adecfa",
   "metadata": {},
   "outputs": [],
   "source": [
    "# Dictionary\n",
    "# keys are immutable (e.g., a tuple can be key)\n",
    "# O(1) lookup complexity\n",
    "a = {'a': 1, 'b': 2}\n",
    "type(a)"
   ]
  },
  {
   "cell_type": "markdown",
   "id": "c786f28c-681f-41e3-9f9c-3331bf595ef1",
   "metadata": {},
   "source": [
    "# Basic operators on datastructures"
   ]
  },
  {
   "cell_type": "code",
   "execution_count": null,
   "id": "d9c27eb4-07d6-47b2-8e85-a00bb08ae996",
   "metadata": {},
   "outputs": [],
   "source": [
    "\"Hel\" + \"lo\""
   ]
  },
  {
   "cell_type": "code",
   "execution_count": null,
   "id": "96c6cfee-6bbc-4e73-bf8e-020e3ff12a21",
   "metadata": {},
   "outputs": [],
   "source": [
    "[1, 2, 3] + [5, 4]"
   ]
  },
  {
   "cell_type": "code",
   "execution_count": null,
   "id": "bbebc99a-4034-483b-a646-ae72f63f4090",
   "metadata": {},
   "outputs": [],
   "source": [
    "[1, 2] * 2"
   ]
  },
  {
   "cell_type": "code",
   "execution_count": null,
   "id": "93c38dca-2ec9-4318-aeef-5cddd1839e67",
   "metadata": {},
   "outputs": [],
   "source": [
    "# union set\n",
    "{1, 2, 3} | {2, 3, 4}"
   ]
  },
  {
   "cell_type": "code",
   "execution_count": null,
   "id": "c4a6ca71-e023-41f4-a0e0-6f91b431aa10",
   "metadata": {},
   "outputs": [],
   "source": [
    "# Intersection of two sets\n",
    "{1, 2, 3} & {2, 3, 4}"
   ]
  },
  {
   "cell_type": "code",
   "execution_count": null,
   "id": "6f945cd0-2ad5-45ab-9528-28eb3475d9a1",
   "metadata": {},
   "outputs": [],
   "source": [
    "d = {'a': 1, 'b': 2}\n",
    "d.update({'c': 3})\n",
    "print(d)"
   ]
  },
  {
   "cell_type": "code",
   "execution_count": null,
   "id": "a00a7146-5d2e-42d9-9bce-c083070dc8db",
   "metadata": {},
   "outputs": [],
   "source": [
    "a = [1, 2, 3]\n",
    "b = [1, 2, 3]\n",
    "\n",
    "print(a is b, a is a)\n",
    "print(a == b)"
   ]
  },
  {
   "cell_type": "code",
   "execution_count": null,
   "id": "00633d64-1d81-4919-9c53-f20942392450",
   "metadata": {},
   "outputs": [],
   "source": [
    "# membership operators\n",
    "'ell' in 'hello', 'hi' in 'hello'"
   ]
  },
  {
   "cell_type": "code",
   "execution_count": null,
   "id": "906edd6a-933d-4938-80f6-3bf0204c120e",
   "metadata": {},
   "outputs": [],
   "source": [
    "# container types check for equality of any element\n",
    "print([2, 3] in [[2], 3, 4, [2,3]])"
   ]
  },
  {
   "cell_type": "code",
   "execution_count": null,
   "id": "42678599-e3f7-445e-88cd-048d4e1f081d",
   "metadata": {},
   "outputs": [],
   "source": [
    "# string formatting\n",
    "day = 13\n",
    "suffix = 'th'\n",
    "day_of_week = 'Tuesday'\n",
    "month = 'February'\n",
    "\n",
    "f'Today is {day_of_week}, {day}{suffix} of {month}'"
   ]
  },
  {
   "cell_type": "code",
   "execution_count": null,
   "id": "5fe89de8-00c1-4b99-b47b-51e1e759fad7",
   "metadata": {},
   "outputs": [],
   "source": [
    "# lazy evaluation (e.g., logging)\n",
    "print('The weight of %d %s is approximately %.1f g' % (3, 'Apples', 85 * 3))"
   ]
  },
  {
   "cell_type": "markdown",
   "id": "9d1e4545-ce2b-47ea-8b52-6127a4ebb2fe",
   "metadata": {},
   "source": [
    "# Indexing"
   ]
  },
  {
   "cell_type": "code",
   "execution_count": null,
   "id": "594d89b1-cdc8-49f1-af54-5c913dc7cdda",
   "metadata": {},
   "outputs": [],
   "source": [
    "# Indexing of lists, tuples, strings, etc. is similar\n",
    "[1, 2, 3, 4, 5][1], (1, 2, 3, 4, 5)[1]"
   ]
  },
  {
   "cell_type": "code",
   "execution_count": null,
   "id": "517a9cf5-f438-4f5d-9ff3-ca120e763cc0",
   "metadata": {},
   "outputs": [],
   "source": [
    "val = [1,2,3]\n",
    "val[2] = 1\n",
    "print(val)"
   ]
  },
  {
   "cell_type": "code",
   "execution_count": null,
   "id": "9f0667fa-4806-4006-ab51-65a5c86b2b84",
   "metadata": {},
   "outputs": [],
   "source": [
    "val = (1,2,3)\n",
    "try:\n",
    "    val[2] = 1\n",
    "# except Exception:\n",
    "#     pass\n",
    "    # try:\n",
    "    #     print(e)\n",
    "    # except NameError:\n",
    "    #     pass\n",
    "except TypeError as e:\n",
    "    print(e)"
   ]
  },
  {
   "cell_type": "code",
   "execution_count": null,
   "id": "6259a558-7bc3-44a0-9ae3-61b796b32390",
   "metadata": {},
   "outputs": [],
   "source": [
    "[1, 2, 3, 4, 5][-2]"
   ]
  },
  {
   "cell_type": "code",
   "execution_count": null,
   "id": "b74c14eb-1fee-44c1-8033-c20f8371f8a3",
   "metadata": {},
   "outputs": [],
   "source": [
    "[1, 2, 3, 4, 5][:2] # slicing"
   ]
  },
  {
   "cell_type": "code",
   "execution_count": null,
   "id": "561c2af6-aa2a-4360-8b2c-6d9e15f93584",
   "metadata": {},
   "outputs": [],
   "source": [
    "[1, 2, 3, 4, 5][:-1]"
   ]
  },
  {
   "cell_type": "code",
   "execution_count": null,
   "id": "70f2079a-e968-473a-bdb6-3f66340f0341",
   "metadata": {},
   "outputs": [],
   "source": [
    "[1, 2, 3, 4, 5][-1:]"
   ]
  },
  {
   "cell_type": "code",
   "execution_count": null,
   "id": "01154ef6-0a2d-4946-bf9a-628ee03b3d4b",
   "metadata": {},
   "outputs": [],
   "source": [
    "[1, 2, 3, 4, 5][::-1]  # reverting"
   ]
  },
  {
   "cell_type": "code",
   "execution_count": null,
   "id": "f1f72ba8-9bd6-4764-b036-4c8097bfb1f4",
   "metadata": {},
   "outputs": [],
   "source": [
    "a = {'a': 1, 'b': 2}\n",
    "a['b'] = 3\n",
    "a"
   ]
  },
  {
   "cell_type": "code",
   "execution_count": null,
   "id": "1a419bd6-1b35-46c0-a02f-7a6a2ede679d",
   "metadata": {},
   "outputs": [],
   "source": [
    "# unpacking\n",
    "(*(1, 2),3)"
   ]
  },
  {
   "cell_type": "code",
   "execution_count": null,
   "id": "bc305165-62d8-4e12-bd1e-570a3cf68442",
   "metadata": {},
   "outputs": [],
   "source": [
    "# Dictionaries are ordered by insertion time\n",
    "dict_a = {'a': 1, 'b': 2, 'c': 3}\n",
    "dict_b = {'b': 2, 'a': 1, 'c': 3}\n",
    "print(dict_a, dict_b)\n",
    "\n",
    "dict_b['a'] = 0  # Modifying an existing memory location\n",
    "print(dict_b)"
   ]
  },
  {
   "cell_type": "code",
   "execution_count": null,
   "id": "34b57056-2e32-4c44-9e64-d6681a1d8552",
   "metadata": {},
   "outputs": [],
   "source": [
    "# Unpack dictionaries using the `**` operator (analogous to sequence unpacking)\n",
    "{**{'a': 2, 'b': 3}, 'c':3}"
   ]
  },
  {
   "cell_type": "markdown",
   "id": "cf8edaa3-c885-41a4-9b22-1b9f346c6609",
   "metadata": {},
   "source": [
    "# Flow control and iteration"
   ]
  },
  {
   "cell_type": "code",
   "execution_count": null,
   "id": "307655be-77ef-4128-af64-110fb7aa214b",
   "metadata": {},
   "outputs": [],
   "source": [
    "# tuple unpacks automatically\n",
    "a, b, c = 2, 3, 4\n",
    "\n",
    "if a == 2:\n",
    "    print('a')\n",
    "elif a > 2:\n",
    "    print('b')\n",
    "else:\n",
    "    print('c')"
   ]
  },
  {
   "cell_type": "code",
   "execution_count": null,
   "id": "f49e4684-bf61-4930-a107-d615419ae400",
   "metadata": {},
   "outputs": [],
   "source": [
    "for val in [3, 1, 2]:\n",
    "    print(val)"
   ]
  },
  {
   "cell_type": "code",
   "execution_count": null,
   "id": "c64206c1-99b8-41c9-b4e0-fda2cfb1407f",
   "metadata": {},
   "outputs": [],
   "source": [
    "for val in [3, 1, 2, 4]:\n",
    "    if val == 2:\n",
    "        break\n",
    "    print(val)"
   ]
  },
  {
   "cell_type": "code",
   "execution_count": null,
   "id": "04ca4969-e447-43ef-8880-2fe5849955d2",
   "metadata": {},
   "outputs": [],
   "source": [
    "for val in [3, 1, 2, 4]:\n",
    "    if val == 2:\n",
    "        continue\n",
    "    print(val)"
   ]
  },
  {
   "cell_type": "code",
   "execution_count": null,
   "id": "9406415e-d3e4-4578-81a1-cef258819ee1",
   "metadata": {},
   "outputs": [],
   "source": [
    "# lazy evaluation\n",
    "for val in range(2, 5):\n",
    "    print(val)"
   ]
  },
  {
   "cell_type": "code",
   "execution_count": null,
   "id": "f488622d-0762-4abc-bb84-cafe8c5924b6",
   "metadata": {},
   "outputs": [],
   "source": [
    "for k, v in dict_a.items():\n",
    "    print(k, v)"
   ]
  },
  {
   "cell_type": "code",
   "execution_count": null,
   "id": "f4932bb4-676b-432d-8b27-fbcf1290f465",
   "metadata": {},
   "outputs": [],
   "source": [
    "names = ['Anna', 'Bob', 'Carl']\n",
    "ages = [21, 18, 34]\n",
    "list(zip(names, ages))"
   ]
  },
  {
   "cell_type": "markdown",
   "id": "b8148a1d-88a0-4bfb-a523-5a73c928e852",
   "metadata": {},
   "source": [
    "In the code cell below, notice that sets are unordered. Therefore, we cannot reliably predict the way they will be unpacked by the `zip` function. Of order matters, it is best to convert the set into ordered datastructure like a tuple (if it should be immutable) or a list (if it should be mutable)."
   ]
  },
  {
   "cell_type": "code",
   "execution_count": null,
   "id": "049b90d6-3ccc-46e1-a231-f949fdea21f8",
   "metadata": {},
   "outputs": [],
   "source": [
    "names_and_ages = zip(names, ages, (0, 1, 2), {1, 32, 4})\n",
    "for el in names_and_ages:\n",
    "    print(el)\n",
    "type(names_and_ages), list(names_and_ages)"
   ]
  },
  {
   "cell_type": "markdown",
   "id": "a64aa693-990c-4622-bfbf-18d670736008",
   "metadata": {},
   "source": [
    "As a workaround, we could try to guess the internal datastructure of the set. However, note that the resulting code is unrobust and only for educational purposes:"
   ]
  },
  {
   "cell_type": "code",
   "execution_count": null,
   "id": "3acfed02-3e22-48a1-be45-8899fbccd267",
   "metadata": {},
   "outputs": [],
   "source": [
    "s = {1, 32, 4}\n",
    "print([v for v in s])  # get an idea of how the set could be stored internally\n",
    "print(list(zip(s, s)))  # the ordering ideally matches the one from the previous line\n",
    "\n",
    "# Notice that the order may diverge based on the method used to produce the standard output (more on the next slide)\n",
    "print(f'Order from the print function: {s}')\n",
    "s"
   ]
  },
  {
   "cell_type": "markdown",
   "id": "fadf12c6-f6de-4f53-ba93-61f1fe0d2df1",
   "metadata": {},
   "source": [
    "The `print` function points to the `__str__` dunder method. Evaluating an expression directly in an interactive environment points to the `__repr__` method. More on object-oriented programming later."
   ]
  },
  {
   "cell_type": "code",
   "execution_count": null,
   "id": "fc2c4405-986f-4dc2-8bdf-b8ccabaa6d66",
   "metadata": {},
   "outputs": [],
   "source": [
    "class Test:\n",
    "    def __str__(self):\n",
    "        return 'using str'\n",
    "\n",
    "    def __repr__(self):\n",
    "        return 'using repr'\n",
    "\n",
    "test = Test()\n",
    "print(test)\n",
    "test"
   ]
  },
  {
   "cell_type": "code",
   "execution_count": null,
   "id": "df0161c3-8472-43c3-9291-2943482a64ca",
   "metadata": {},
   "outputs": [],
   "source": [
    "for n, tag in enumerate({'yes', 'no', 'maybe'}):\n",
    "    print(f'{n} -> {tag}')"
   ]
  },
  {
   "cell_type": "markdown",
   "id": "1a84d718-fbb6-481f-af99-9add595555e5",
   "metadata": {},
   "source": [
    "# List iteration/comprehensions"
   ]
  },
  {
   "cell_type": "code",
   "execution_count": null,
   "id": "419afbb2-6e71-449a-8af5-3057e7d6fa98",
   "metadata": {},
   "outputs": [],
   "source": [
    "lc = [i for i in range(10)]\n",
    "lc"
   ]
  },
  {
   "cell_type": "code",
   "execution_count": null,
   "id": "e337be0c-802f-4c52-b1d1-87fba16d2d1b",
   "metadata": {},
   "outputs": [],
   "source": [
    "# generator expression\n",
    "ge = (i for i in range(10))\n",
    "ge, type(ge)"
   ]
  },
  {
   "cell_type": "code",
   "execution_count": null,
   "id": "f5916cb2-633b-459c-8b26-d6c4ab9bf009",
   "metadata": {},
   "outputs": [],
   "source": [
    "import sys\n",
    "sys.getsizeof(lc), sys.getsizeof(ge)"
   ]
  },
  {
   "cell_type": "code",
   "execution_count": null,
   "id": "8f9064e8-c44d-4901-b498-9f23192fcd5e",
   "metadata": {},
   "outputs": [],
   "source": [
    "[i for i in range(10) if i % 2 == 0]"
   ]
  },
  {
   "cell_type": "code",
   "execution_count": null,
   "id": "191e6359-f05d-4f0e-a209-b87557b5d836",
   "metadata": {},
   "outputs": [],
   "source": [
    "# ternary condition operator\n",
    "[i if i % 2 == 0 else -i for i in range(10)]"
   ]
  },
  {
   "cell_type": "code",
   "execution_count": null,
   "id": "409903c7-bf69-48fb-a96d-800366785078",
   "metadata": {},
   "outputs": [],
   "source": [
    "names = ['Anna', 'Bob', 'Carl']\n",
    "ages = [21, 18, 34]\n",
    "dct = {name: age for name, age in zip(names, ages)}\n",
    "dct = {age: name for name, age in zip(names, ages)}\n",
    "type(dct), dct\n",
    "\n",
    "dict(zip(ages, names))"
   ]
  },
  {
   "cell_type": "markdown",
   "id": "c19d3007-c53b-4381-9cfb-6391a2f773b4",
   "metadata": {},
   "source": [
    "# String utility functions"
   ]
  },
  {
   "cell_type": "code",
   "execution_count": null,
   "id": "5671c880-3a30-4726-bdfd-b6e6b74555fe",
   "metadata": {},
   "outputs": [],
   "source": [
    "'   the story \\r\\n\\r\\n '.strip()  # strip leading and trailing whitespaces/newlines"
   ]
  },
  {
   "cell_type": "code",
   "execution_count": null,
   "id": "8af46d7c-42dc-4736-b121-795a2fa4adf1",
   "metadata": {},
   "outputs": [],
   "source": [
    "# find index of a sub-string\n",
    "txt = 'Hello world !'\n",
    "first = txt.find('wo')\n",
    "first, txt[first]"
   ]
  },
  {
   "cell_type": "code",
   "execution_count": null,
   "id": "58abdd03-731e-44d6-99d5-52928d6124e4",
   "metadata": {
    "editable": true,
    "slideshow": {
     "slide_type": ""
    },
    "tags": []
   },
   "outputs": [],
   "source": [
    "'Apples,Lettuce,Bread'.split(',')  # split a string into a list of strings given a delimiter"
   ]
  },
  {
   "cell_type": "code",
   "execution_count": null,
   "id": "2e53b297-8cfa-4950-ac23-a3006da98339",
   "metadata": {},
   "outputs": [],
   "source": [
    "' and '.join(['Huey', 'Dewey', 'Louie'])  # joining a list of strings using a delimiter"
   ]
  },
  {
   "cell_type": "markdown",
   "id": "73277bb4-8c95-417b-8461-30fa3560158a",
   "metadata": {},
   "source": [
    "# Functions"
   ]
  },
  {
   "cell_type": "code",
   "execution_count": null,
   "id": "88ef67ff-79a7-411c-b547-af065afd3e94",
   "metadata": {},
   "outputs": [],
   "source": [
    "# Keyword arg and docstring are optional\n",
    "# Function arguments specified in the function signature should be immutable\n",
    "def fun(a, b=1):\n",
    "    \"\"\"Adds to numbers\n",
    "\n",
    "    Args:\n",
    "        a: the first number\n",
    "        b: the second number\n",
    "\n",
    "    Returns:\n",
    "        the sum of a and b\n",
    "    \"\"\"\n",
    "    return a + b\n",
    "print(fun(2))\n",
    "print(fun(2, 3))"
   ]
  },
  {
   "cell_type": "code",
   "execution_count": null,
   "id": "5f4c813e-66bb-405c-af2b-5d5b70692fd6",
   "metadata": {},
   "outputs": [],
   "source": [
    "def fun(a: int, b: int = 1) -> int:\n",
    "    assert isinstance(a, int)\n",
    "    assert isinstance(b, int)\n",
    "    return a + b\n",
    "print(fun(2))"
   ]
  },
  {
   "cell_type": "code",
   "execution_count": null,
   "id": "a09d9b5b-e2d2-4e97-8362-eafce06c694c",
   "metadata": {},
   "outputs": [],
   "source": [
    "# optional number of arguments (args) and keyword arguments (kwargs)\n",
    "def fun(*args, **kwargs):\n",
    "    return fun2(*args, **kwargs)\n",
    "\n",
    "def fun2(a, b=1, c=2):\n",
    "    return a, b, c\n",
    "\n",
    "print(fun(1))\n",
    "print(fun(1, 2))\n",
    "print(fun(1, c=1, b=2))\n",
    "try:\n",
    "    print(fun())\n",
    "except TypeError as e:\n",
    "    print(e)"
   ]
  },
  {
   "cell_type": "code",
   "execution_count": null,
   "id": "26074fb4-2b69-406a-9d2d-8012988612d2",
   "metadata": {},
   "outputs": [],
   "source": [
    "def fun(list_):\n",
    "    list_[0] = 4\n",
    "\n",
    "a = [1, 2, 3]  # mutable\n",
    "fun(a)\n",
    "a"
   ]
  },
  {
   "cell_type": "code",
   "execution_count": null,
   "id": "274dc378-de2d-42d1-9120-628487295296",
   "metadata": {},
   "outputs": [],
   "source": [
    "def fun(a_):\n",
    "    a_ = 4\n",
    "\n",
    "a = 2  # immutable\n",
    "fun(a)\n",
    "a"
   ]
  },
  {
   "cell_type": "code",
   "execution_count": null,
   "id": "51aaf3e2-4e1d-4694-81bb-f0547d3466ae",
   "metadata": {},
   "outputs": [],
   "source": [
    "# Functions behave like any other variable\n",
    "def fun(a):\n",
    "    return a + 2\n",
    "\n",
    "my_function = fun\n",
    "my_function(2)"
   ]
  },
  {
   "cell_type": "code",
   "execution_count": null,
   "id": "ec9e8a4c-071d-4784-8259-20e3569b9139",
   "metadata": {},
   "outputs": [],
   "source": [
    "def square_fn(x: float):\n",
    "    return x ** 2\n",
    "\n",
    "def do_twice(func, x):\n",
    "    return func(func(x))\n",
    "\n",
    "do_twice(square_fn, 2)"
   ]
  },
  {
   "cell_type": "markdown",
   "id": "048917fc-a97d-4686-bd9c-773ceb9dd02c",
   "metadata": {},
   "source": [
    "# Object-oriented programming\n",
    "- Class names are CamelCase by convention\n",
    "- Methods are functions bound to objects.\n",
    "- Class methods are called using the syntax <class/instance>.<method/attribute>"
   ]
  },
  {
   "cell_type": "code",
   "execution_count": null,
   "id": "69c63078-6798-46d2-9baa-fb6dbd0f8e8a",
   "metadata": {},
   "outputs": [],
   "source": [
    "class Student:\n",
    "    def test():\n",
    "        print('accessing the test method')\n",
    "\n",
    "Student.test()"
   ]
  },
  {
   "cell_type": "markdown",
   "id": "2cf29b0d-26fc-41d6-a565-5ffa833ab8d5",
   "metadata": {},
   "source": [
    "- Methods with two leading and trailing underscores are special/dunder methods.\n",
    "- Constructors instantiate instances of a class"
   ]
  },
  {
   "cell_type": "code",
   "execution_count": null,
   "id": "411752a6-6610-4f60-9b12-ce02110d5fbc",
   "metadata": {},
   "outputs": [],
   "source": [
    "class Student:\n",
    "    def __init__(self, name=None):  # Constructor\n",
    "        # Instance attributes\n",
    "        # `self` points to the instance (name by convention)\n",
    "        self.name = name\n",
    "\n",
    "# The below does not work, as we need to (implicitly) pass a reference to the instance.\n",
    "try:\n",
    "    Student.__init__('Marc')\n",
    "except AttributeError as e:\n",
    "    print(e)\n",
    "\n",
    "student = Student('Marc')  # This automatically takes care of the above problem\n",
    "student.__init__('Ana')  # We can now also re-instantiate manually\n",
    "print(student.name)"
   ]
  },
  {
   "cell_type": "markdown",
   "id": "6e77df54-2ad0-4601-8247-6afb043e7682",
   "metadata": {},
   "source": [
    "Class inheritance:\n",
    "- Place parentclass in parantheses after class name\n",
    "- `super()` points to parent class"
   ]
  },
  {
   "cell_type": "code",
   "execution_count": null,
   "id": "c27a81e2-2385-49a9-94d9-c2c34f43865c",
   "metadata": {},
   "outputs": [],
   "source": [
    "class StudentAssistant(Student):\n",
    "    def __init__(self, name=None, employer=None):\n",
    "        super().__init__(name)\n",
    "        self.employer = employer"
   ]
  },
  {
   "cell_type": "code",
   "execution_count": null,
   "id": "13829803-e138-4ed6-9859-37212263d953",
   "metadata": {},
   "outputs": [],
   "source": [
    "# Create an instance of the Student class\n",
    "student = Student(name='John')\n",
    "# Create an instance of the StudentAssistant class, which inherits from student\n",
    "studa = StudentAssistant(name='Anna', employer='TUB')\n",
    "print(studa.name)"
   ]
  },
  {
   "cell_type": "code",
   "execution_count": null,
   "id": "dc7e7d18-8064-4102-9477-f6943707e091",
   "metadata": {},
   "outputs": [],
   "source": [
    "type(student), type(studa)"
   ]
  },
  {
   "cell_type": "code",
   "execution_count": null,
   "id": "6e1d655b-a276-4b47-9620-3890d0275cb4",
   "metadata": {},
   "outputs": [],
   "source": [
    "isinstance(studa, Student)"
   ]
  },
  {
   "cell_type": "code",
   "execution_count": null,
   "id": "0be5d623-65c7-418d-be00-ebbe3c8d81c7",
   "metadata": {},
   "outputs": [],
   "source": [
    "class StudentAssistant(Student):\n",
    "    def __init__(self, name=None, employer=None):\n",
    "        super().__init__(name)\n",
    "        self.employer = employer\n",
    "\n",
    "    def is_employed_at_tub(self):\n",
    "        return self.employer == 'TUB'\n",
    "\n",
    "studa = StudentAssistant(name='Anna', employer='TUB')\n",
    "print(studa.is_employed_at_tub())"
   ]
  },
  {
   "cell_type": "code",
   "execution_count": null,
   "id": "f7268fbe-31ae-485c-87b9-6a2ac4983fcc",
   "metadata": {},
   "outputs": [],
   "source": [
    "# You can try uncommenting the `__str__` or `__repr__` methods in the code below.\n",
    "\n",
    "class StudentAssistant(Student):\n",
    "    def __init__(self, name=None, employer=None):\n",
    "        super().__init__(name)\n",
    "        self.employer = employer\n",
    "\n",
    "    def is_employed_at_tub(self):\n",
    "        return self.employer == 'TUB'\n",
    "\n",
    "    # def __str__(self): # \"for users\", i.e., the output should be easily understandable\n",
    "    #     return f'Name: {self.name}'\n",
    "    \n",
    "    def __repr__(self): # \"for developers\"\n",
    "        return str(hash(f'Name: {self.name}'))\n",
    "\n",
    "studa = StudentAssistant(name='Anna', employer='TUB')"
   ]
  },
  {
   "cell_type": "code",
   "execution_count": null,
   "id": "958d4a22-abb3-4997-b4c0-b9bacd35b1c3",
   "metadata": {},
   "outputs": [],
   "source": [
    "print(studa, studa.__str__(), studa.__repr__())"
   ]
  },
  {
   "cell_type": "code",
   "execution_count": null,
   "id": "7a43883d-5852-4bdb-85c1-0fc83433d326",
   "metadata": {},
   "outputs": [],
   "source": [
    "class StudentA:\n",
    "    pass\n",
    "\n",
    "class StudentB(object):\n",
    "    pass\n",
    "\n",
    "print(object, type(object))"
   ]
  },
  {
   "cell_type": "code",
   "execution_count": null,
   "id": "480c1fee-0186-486c-a5aa-fb7cd101823d",
   "metadata": {},
   "outputs": [],
   "source": [
    "# function `dir` returns attributes and methods\n",
    "dir(StudentA)"
   ]
  },
  {
   "cell_type": "code",
   "execution_count": null,
   "id": "071fbc59-acc6-4506-9fb3-88d532443780",
   "metadata": {},
   "outputs": [],
   "source": [
    "delta = set(dir(StudentA)) - set(dir(object))\n",
    "print(delta)"
   ]
  },
  {
   "cell_type": "code",
   "execution_count": null,
   "id": "326a6119-5790-46ae-a3e1-c88ced5b9c44",
   "metadata": {},
   "outputs": [],
   "source": [
    "# function `getattr` returns an attribute's value\n",
    "print(\n",
    "    [(v, getattr(StudentA(), v)) for v in delta]\n",
    ")"
   ]
  },
  {
   "cell_type": "markdown",
   "id": "9a1c9323-8d3e-4b0e-bdd6-1af5c48c591f",
   "metadata": {},
   "source": [
    "# Reading data from a file"
   ]
  },
  {
   "cell_type": "markdown",
   "id": "9a4650b4-3d6e-4396-9006-6784e5bbdccd",
   "metadata": {},
   "source": [
    "Content of file _scores.txt_ that lists the performance of players at a certain game:\n",
    "\n",
    "<br>\n",
    "\n",
    "`80,55,16,26,37,62,49,13,28,56`\n",
    "\n",
    "`43,45,47,63,43,65,10,52,30,18`\n",
    "\n",
    "`63,71,69,24,54,29,79,83,38,56`\n",
    "\n",
    "`46,42,39,14,47,40,72,43,57,47`\n",
    "\n",
    "`61,49,65,31,79,62,9,90,65,44`\n",
    "\n",
    "`10,28,16,6,61,72,78,55,54,48`"
   ]
  },
  {
   "cell_type": "code",
   "execution_count": null,
   "id": "b9e94918-54f1-4689-b318-a7eade121160",
   "metadata": {},
   "outputs": [],
   "source": [
    "# the `with` statement openes and closes the file\n",
    "# `f` is then only available within the code block\n",
    "with open('./scores.txt', 'r') as fd:\n",
    "    data = []\n",
    "    for line in fd:\n",
    "        line_entries = line.strip().split(',')\n",
    "        lst = [float(x) for x in line_entries]\n",
    "        # data.append(lst)\n",
    "        data.extend(lst)\n",
    "        \n",
    "print(f'Data length: {len(data)}')\n",
    "print(f'File content: {data}')"
   ]
  },
  {
   "cell_type": "markdown",
   "id": "f263f7a8-68b2-46cc-954a-81defa55b40b",
   "metadata": {},
   "source": [
    "## Python debugger\n",
    "- Import\n",
    "    - Standard library: `import pdb`\n",
    "    - Jupyter notebooks: `from IPython.core.debugger import set_trace`\n",
    "- Use the `set_trace()` function to set a breakpoint (the code stops here and an interactive console opens)\n",
    "- Use `continue`, `next`, or `quit` (or many additional commands) to navigate in the respective interactive shell.\n",
    "- Some IDEs contain much more sophisticated debuggers (e.g., PyCharm)"
   ]
  },
  {
   "cell_type": "code",
   "execution_count": null,
   "id": "d9385a52-3759-4c90-bfab-30200de89a11",
   "metadata": {},
   "outputs": [],
   "source": [
    "from IPython.core.debugger import set_trace\n",
    "\n",
    "def func():\n",
    "    a = [5, 6, 7]\n",
    "    # Uncomment the below so that an interactive shell opens, where you can evaluate variables\n",
    "    set_trace()\n",
    "    b = ['a', 'b']\n",
    "    pass\n",
    "    \n",
    "func()"
   ]
  }
 ],
 "metadata": {
  "kernelspec": {
   "display_name": "pyml",
   "language": "python",
   "name": "pyml"
  },
  "language_info": {
   "codemirror_mode": {
    "name": "ipython",
    "version": 3
   },
   "file_extension": ".py",
   "mimetype": "text/x-python",
   "name": "python",
   "nbconvert_exporter": "python",
   "pygments_lexer": "ipython3",
   "version": "3.12.1"
  }
 },
 "nbformat": 4,
 "nbformat_minor": 5
}
