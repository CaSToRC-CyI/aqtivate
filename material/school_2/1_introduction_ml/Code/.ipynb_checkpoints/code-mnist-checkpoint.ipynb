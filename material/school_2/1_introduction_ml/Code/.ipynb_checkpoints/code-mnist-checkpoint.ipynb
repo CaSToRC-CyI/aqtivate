{
 "cells": [
  {
   "cell_type": "markdown",
   "metadata": {},
   "source": [
    "# The MNIST Data"
   ]
  },
  {
   "cell_type": "code",
   "execution_count": 1,
   "metadata": {},
   "outputs": [],
   "source": [
    "from torchvision import datasets, transforms\n",
    "# Specify post-processing pipeline\n",
    "transform = transforms.Compose([transforms.ToTensor(),\n",
    "                              transforms.Normalize((0.1307,), (0.3081,)), # mean and variance precomputed\n",
    "                              ])\n",
    "# Load train data from disk\n",
    "trainset = datasets.MNIST('data/', download=True, train=True, transform=transform)\n",
    "\n",
    "# Load validation data from disk\n",
    "valset = datasets.MNIST('data/', download=True, train=False, transform=transform)  \n"
   ]
  },
  {
   "cell_type": "code",
   "execution_count": 2,
   "metadata": {},
   "outputs": [
    {
     "data": {
      "image/png": "[encoded data removed]",
      "text/plain": [
       "<Figure size 72x72 with 1 Axes>"
      ]
     },
     "metadata": {
      "needs_background": "light"
     },
     "output_type": "display_data"
    },
    {
     "data": {
      "image/png": "[encoded data removed]",
      "text/plain": [
       "<Figure size 72x72 with 1 Axes>"
      ]
     },
     "metadata": {
      "needs_background": "light"
     },
     "output_type": "display_data"
    },
    {
     "data": {
      "image/png": "[encoded data removed]",
      "text/plain": [
       "<Figure size 72x72 with 1 Axes>"
      ]
     },
     "metadata": {
      "needs_background": "light"
     },
     "output_type": "display_data"
    },
    {
     "data": {
      "image/png": "[encoded data removed]",
      "text/plain": [
       "<Figure size 72x72 with 1 Axes>"
      ]
     },
     "metadata": {
      "needs_background": "light"
     },
     "output_type": "display_data"
    },
    {
     "data": {
      "image/png": "[encoded data removed]",
      "text/plain": [
       "<Figure size 72x72 with 1 Axes>"
      ]
     },
     "metadata": {
      "needs_background": "light"
     },
     "output_type": "display_data"
    }
   ],
   "source": [
    "import matplotlib.pyplot as plt\n",
    "# Look at a few images \n",
    "for i in [8,4,22,8,66]:\n",
    "    image, label = trainset[i]\n",
    "    plt.figure(figsize=(1,1))\n",
    "    plt.imshow(image.numpy().squeeze(), cmap='gray_r');\n",
    "    plt.axis('off')\n",
    "    plt.show()\n",
    "    plt.close()"
   ]
  },
  {
   "cell_type": "markdown",
   "metadata": {},
   "source": [
    "# The Model"
   ]
  },
  {
   "cell_type": "code",
   "execution_count": 3,
   "metadata": {},
   "outputs": [],
   "source": [
    "import torch\n",
    "import numpy as np\n",
    "\n",
    "def sigma(x):\n",
    "    return x.clamp(min=0)\n",
    "\n",
    "def random_param(shape, seed=7):\n",
    "    torch.manual_seed(seed)              # Seed for reconstructability\n",
    "    std = 1/np.sqrt(shape[-1])           # Standard deviation\n",
    "    param = torch.normal(0., std, shape) # centered normal distributed parameters\n",
    "    param.requires_grad=True             # Let them exhibit a gradient (torch specific) \n",
    "    return param\n",
    "\n",
    "class NN():\n",
    "    def __init__(self, dims=[784, 128, 64, 10]):\n",
    "        self.theta = []                                       # Init parameter list\n",
    "        for l in range(len(dims) -1 ):                        # iterate over each layer\n",
    "            self.theta += [random_param((dims[l],dims[l+1]))] # Init weight matrix\n",
    "        \n",
    "    def forward(self, x):                  # Forward iteration\n",
    "        for weights in self.theta:         # Iterate over weights, or layer\n",
    "            x = sigma(x.matmul(weights))    # Forward iteration in each layer\n",
    "        return x\n",
    "\n"
   ]
  },
  {
   "cell_type": "markdown",
   "metadata": {},
   "source": [
    "# The Training"
   ]
  },
  {
   "cell_type": "code",
   "execution_count": 4,
   "metadata": {},
   "outputs": [
    {
     "name": "stdout",
     "output_type": "stream",
     "text": [
      "Epoch 0 - Training loss: 0.2611920378975529\n",
      "Epoch 1 - Training loss: 0.10623069500564518\n",
      "Epoch 2 - Training loss: 0.06960197870077912\n",
      "Epoch 3 - Training loss: 0.050545861576382974\n",
      "Epoch 4 - Training loss: 0.03694207824729311\n",
      "\n",
      "Training time (in minutes) = 4.242150131861369\n"
     ]
    }
   ],
   "source": [
    "from torch import nn\n",
    "from time import time\n",
    "\n",
    "model = NN(dims=[784, 128, 64, 10])    # Initialize the neural network\n",
    "\n",
    "lr = 0.002                             # Learning rate - gamma\n",
    "\n",
    "epochs = 5                             # Number of times we to over the dataset\n",
    "\n",
    "criterion = nn.CrossEntropyLoss()      # Another loss function thatn l2 distance\n",
    "\n",
    "time0 = time()                         # Initialize the time (we want to know how long the computation takes)\n",
    "\n",
    "for e in range(epochs):                         # Iterate over every epoch\n",
    "    running_loss = 0\n",
    "    for image, label in trainset:               # iterate over the dataset\n",
    "        output = model.forward(image.flatten()) # Flatten MNIST images into a 784 long vector\n",
    "        \n",
    "        loss = criterion(output.unsqueeze(0),   # Distance between output and target\n",
    "                         torch.tensor([label])) \n",
    "        \n",
    "        loss.backward()                         # compute gradient\n",
    "        \n",
    "        # Update the weights with gradient descend \n",
    "        for param in model.theta:               # iterate over the parameters\n",
    "            with torch.no_grad(): \n",
    "                param -= lr*param.grad          # update the parameters\n",
    "                \n",
    "            param.grad.zero_()                  # set the internal gradient to zero\n",
    "        \n",
    "        running_loss += loss.item()             # update loss\n",
    "\n",
    "    print(\"Epoch {} - Training loss: {}\".format(e, running_loss/len(trainset)))\n",
    "print(\"\\nTraining time (in minutes) =\",(time()-time0)/60)"
   ]
  },
  {
   "cell_type": "markdown",
   "metadata": {},
   "source": [
    "# Check performance"
   ]
  },
  {
   "cell_type": "code",
   "execution_count": 5,
   "metadata": {},
   "outputs": [
    {
     "name": "stdout",
     "output_type": "stream",
     "text": [
      "The accuracy on validation the set is 96.69%\n"
     ]
    }
   ],
   "source": [
    "test = 'validation' # 'training'\n",
    "\n",
    "if test == 'validation':\n",
    "    testset = valset\n",
    "else:\n",
    "    testset = trainset\n",
    "compare = []\n",
    "for image, label in testset:                             # Iterate over the test set\n",
    "    prediction = model.forward(image.flatten()).argmax() # Get the model prediction of the image\n",
    "    compare.append(prediction == label)                  # Check if the model was right\n",
    "\n",
    "acc = float(sum(compare)/len(compare))                   # comppute total accuracy \n",
    "print('The accuracy on {} the set is {}%'.format(test,100*round(acc,4)))\n"
   ]
  },
  {
   "cell_type": "markdown",
   "metadata": {},
   "source": [
    "# Look at images where the model is wrong"
   ]
  },
  {
   "cell_type": "code",
   "execution_count": 6,
   "metadata": {},
   "outputs": [
    {
     "data": {
      "image/png": "[encoded data removed]",
      "text/plain": [
       "<Figure size 72x72 with 1 Axes>"
      ]
     },
     "metadata": {
      "needs_background": "light"
     },
     "output_type": "display_data"
    },
    {
     "data": {
      "image/png": "[encoded data removed]",
      "text/plain": [
       "<Figure size 72x72 with 1 Axes>"
      ]
     },
     "metadata": {
      "needs_background": "light"
     },
     "output_type": "display_data"
    },
    {
     "data": {
      "image/png": "[encoded data removed]",
      "text/plain": [
       "<Figure size 72x72 with 1 Axes>"
      ]
     },
     "metadata": {
      "needs_background": "light"
     },
     "output_type": "display_data"
    }
   ],
   "source": [
    "for i in range(300):\n",
    "    image, label = trainset[i]\n",
    "    prediction = model.forward(image.flatten()).argmax()\n",
    "    if prediction != label:\n",
    "        plt.figure(figsize=(1,1))\n",
    "        plt.imshow(image.numpy().squeeze(), cmap='gray_r');\n",
    "        plt.axis('off')\n",
    "        plt.title(\"Model predicted {}, \\n the true label is {}\".format(prediction, label))\n",
    "        plt.show()\n",
    "        plt.close()"
   ]
  },
  {
   "cell_type": "code",
   "execution_count": null,
   "metadata": {},
   "outputs": [],
   "source": []
  }
 ],
 "metadata": {
  "kernelspec": {
   "display_name": "symb_xai",
   "language": "python",
   "name": "symb_xai"
  },
  "language_info": {
   "codemirror_mode": {
    "name": "ipython",
    "version": 3
   },
   "file_extension": ".py",
   "mimetype": "text/x-python",
   "name": "python",
   "nbconvert_exporter": "python",
   "pygments_lexer": "ipython3",
   "version": "3.10.4"
  }
 },
 "nbformat": 4,
 "nbformat_minor": 4
}
